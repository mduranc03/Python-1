{
  "nbformat": 4,
  "nbformat_minor": 0,
  "metadata": {
    "colab": {
      "provenance": []
    },
    "kernelspec": {
      "name": "python3",
      "display_name": "Python 3"
    },
    "language_info": {
      "name": "python"
    }
  },
  "cells": [
    {
      "cell_type": "markdown",
      "source": [
        "**Buenos días** estoy en clase de Python"
      ],
      "metadata": {
        "id": "x075oK_ilgmA"
      }
    },
    {
      "cell_type": "code",
      "execution_count": null,
      "metadata": {
        "colab": {
          "base_uri": "https://localhost:8080/"
        },
        "id": "DebY0Vfzj7PX",
        "outputId": "07c39f30-5441-43bc-c346-d5bb1fea77f0"
      },
      "outputs": [
        {
          "output_type": "stream",
          "name": "stdout",
          "text": [
            "Quiero aprender a programar en Python\n"
          ]
        }
      ],
      "source": [
        "#Realmente quiero aprender Python\n",
        "print(\"Quiero aprender a programar en Python\")"
      ]
    },
    {
      "cell_type": "code",
      "source": [
        "#Este soy yo\n",
        "print(\"Hola soy Miguel Angel Duran, me gusta montar en bicicleta, vivo en Bogotá\")"
      ],
      "metadata": {
        "colab": {
          "base_uri": "https://localhost:8080/"
        },
        "id": "V8JrOZTimqcK",
        "outputId": "a25cfa13-13a6-4c17-8ec5-6e8050fd44cf"
      },
      "execution_count": null,
      "outputs": [
        {
          "output_type": "stream",
          "name": "stdout",
          "text": [
            "Hola soy Miguel Angel Duran, me gusta montar en bicicleta, vivo en Bogotá\n"
          ]
        }
      ]
    },
    {
      "cell_type": "code",
      "source": [
        "\"Ay voy de tonto recordando y nunca paro\""
      ],
      "metadata": {
        "colab": {
          "base_uri": "https://localhost:8080/",
          "height": 36
        },
        "id": "OoqCsijNnQAQ",
        "outputId": "692306de-9066-403a-b46d-ad6d053bebd9"
      },
      "execution_count": null,
      "outputs": [
        {
          "output_type": "execute_result",
          "data": {
            "text/plain": [
              "'Ay voy de tonto recordando y nunca paro'"
            ],
            "application/vnd.google.colaboratory.intrinsic+json": {
              "type": "string"
            }
          },
          "metadata": {},
          "execution_count": 332
        }
      ]
    },
    {
      "cell_type": "markdown",
      "source": [
        "**TIPOS DE DATOS**"
      ],
      "metadata": {
        "id": "-lkNw-qFn2uq"
      }
    },
    {
      "cell_type": "code",
      "source": [
        "#Tipo de dato enter, en ingles es integer y la abreviatura para python es int\n",
        "type(35)"
      ],
      "metadata": {
        "colab": {
          "base_uri": "https://localhost:8080/"
        },
        "id": "9WhdUpfCnuKa",
        "outputId": "82516b24-394a-4dbf-8485-99ac6a529c00"
      },
      "execution_count": null,
      "outputs": [
        {
          "output_type": "execute_result",
          "data": {
            "text/plain": [
              "int"
            ]
          },
          "metadata": {},
          "execution_count": 333
        }
      ]
    },
    {
      "cell_type": "code",
      "source": [
        "#Tioo de dato flotante que en español, lo conocemos como decimal, su abreviatura es float\n",
        "type(9.8)"
      ],
      "metadata": {
        "colab": {
          "base_uri": "https://localhost:8080/"
        },
        "id": "scK4kv95oO85",
        "outputId": "7f1e31f5-2ed4-4d62-d8af-4feafa8cd61e"
      },
      "execution_count": null,
      "outputs": [
        {
          "output_type": "execute_result",
          "data": {
            "text/plain": [
              "float"
            ]
          },
          "metadata": {},
          "execution_count": 334
        }
      ]
    },
    {
      "cell_type": "code",
      "source": [
        "#Boleanos son tipos de datos que solo pueden tener dos valores el True (verdader) o false (falso) su abreviatura es bool"
      ],
      "metadata": {
        "id": "dhu5nxHlpJA1"
      },
      "execution_count": null,
      "outputs": []
    },
    {
      "cell_type": "code",
      "source": [
        "type(True)"
      ],
      "metadata": {
        "colab": {
          "base_uri": "https://localhost:8080/"
        },
        "id": "3y9gCSZDp0EQ",
        "outputId": "7cd51cfb-e023-4f37-c9eb-a33fed13bec3"
      },
      "execution_count": null,
      "outputs": [
        {
          "output_type": "execute_result",
          "data": {
            "text/plain": [
              "bool"
            ]
          },
          "metadata": {},
          "execution_count": 336
        }
      ]
    },
    {
      "cell_type": "code",
      "source": [
        "#Tipos de datos cadena, en ingles strings, siempre debe tener comillas"
      ],
      "metadata": {
        "id": "kPv8Y08lp3aL"
      },
      "execution_count": null,
      "outputs": []
    },
    {
      "cell_type": "code",
      "source": [
        "type(\"Mambru se fue a la guerra que dolor que solor que pena\")"
      ],
      "metadata": {
        "colab": {
          "base_uri": "https://localhost:8080/"
        },
        "id": "c3kKY68EqLfG",
        "outputId": "82aa51bf-1e3f-4bdc-b7bc-ea9a84afa459"
      },
      "execution_count": null,
      "outputs": [
        {
          "output_type": "execute_result",
          "data": {
            "text/plain": [
              "str"
            ]
          },
          "metadata": {},
          "execution_count": 338
        }
      ]
    },
    {
      "cell_type": "markdown",
      "source": [
        "Metodos de las cadenas, las cadebas tienen funciones pequeñas que me ayudan a formatearlas"
      ],
      "metadata": {
        "id": "-Eh0XwUbqawI"
      }
    },
    {
      "cell_type": "code",
      "source": [
        "print(\"Estoy aprendiendo python\".upper())#Este método me sirve para poner mayusculas\n",
        "print(\"Aprendiendo python puedo llegar mas lejos en programación\".lower())#Este método me sirve para poner mayusculas\n",
        "print(\"El viejo y el mar\".title())#Asi puedo poner cada palabra en mayusculas"
      ],
      "metadata": {
        "colab": {
          "base_uri": "https://localhost:8080/"
        },
        "id": "-CH9tMdgqYYv",
        "outputId": "e48040ca-e0e6-461b-ad89-e469e0eb6d2e"
      },
      "execution_count": null,
      "outputs": [
        {
          "output_type": "stream",
          "name": "stdout",
          "text": [
            "ESTOY APRENDIENDO PYTHON\n",
            "aprendiendo python puedo llegar mas lejos en programación\n",
            "El Viejo Y El Mar\n"
          ]
        }
      ]
    },
    {
      "cell_type": "code",
      "source": [
        "#Para contar las letras de una cadena puedo usar el metodo count\n",
        "print(\"Como puedo hacer para aprender sin estudiar\".count(\"a\"))"
      ],
      "metadata": {
        "colab": {
          "base_uri": "https://localhost:8080/"
        },
        "id": "0_py-hywrqIq",
        "outputId": "6029ceab-2a6f-4654-a0aa-2b9a71face57"
      },
      "execution_count": null,
      "outputs": [
        {
          "output_type": "stream",
          "name": "stdout",
          "text": [
            "5\n"
          ]
        }
      ]
    },
    {
      "cell_type": "code",
      "source": [
        "print(\"\"\"Mi edad es 38 años\n",
        "mi genero es masculino\"\"\")"
      ],
      "metadata": {
        "colab": {
          "base_uri": "https://localhost:8080/"
        },
        "id": "ElUI8qTCsH5H",
        "outputId": "389d9f85-c292-445a-f408-db744716cd88"
      },
      "execution_count": null,
      "outputs": [
        {
          "output_type": "stream",
          "name": "stdout",
          "text": [
            "Mi edad es 38 años\n",
            "mi genero es masculino\n"
          ]
        }
      ]
    },
    {
      "cell_type": "code",
      "source": [
        "#Como remplazar un valor dentro de una cadena utilizando replace\n",
        "print(\"Hola soy Manuel Duran Cano\".replace(\"M\",\"m\"))"
      ],
      "metadata": {
        "colab": {
          "base_uri": "https://localhost:8080/"
        },
        "id": "r3JdVsles8P5",
        "outputId": "b83db0b7-eea5-4c0c-a44d-b19c3a9bfe4a"
      },
      "execution_count": null,
      "outputs": [
        {
          "output_type": "stream",
          "name": "stdout",
          "text": [
            "Hola soy manuel Duran Cano\n"
          ]
        }
      ]
    },
    {
      "cell_type": "code",
      "source": [
        "print(\"miguel angel duran cano\".replace(\"m\",\"M\"))"
      ],
      "metadata": {
        "colab": {
          "base_uri": "https://localhost:8080/"
        },
        "id": "nQjm7rGItaSM",
        "outputId": "6be69998-be04-464a-a6cb-241bca4322ca"
      },
      "execution_count": null,
      "outputs": [
        {
          "output_type": "stream",
          "name": "stdout",
          "text": [
            "Miguel angel duran cano\n"
          ]
        }
      ]
    },
    {
      "cell_type": "code",
      "source": [
        "print(\"miguel angel duran cano\".replace(\"a\",\"A\"))"
      ],
      "metadata": {
        "colab": {
          "base_uri": "https://localhost:8080/"
        },
        "id": "7CqDtB9Bty7y",
        "outputId": "d9682359-f125-440c-871c-ef2aa68c2e09"
      },
      "execution_count": null,
      "outputs": [
        {
          "output_type": "stream",
          "name": "stdout",
          "text": [
            "miguel Angel durAn cAno\n"
          ]
        }
      ]
    },
    {
      "cell_type": "code",
      "source": [
        "print(\"miguel angel duran cano\".replace(\"d\",\"D\"))"
      ],
      "metadata": {
        "colab": {
          "base_uri": "https://localhost:8080/"
        },
        "id": "10VMhfSpt7J5",
        "outputId": "3a1410d7-ad5d-48a4-ae37-fe631e00006f"
      },
      "execution_count": null,
      "outputs": [
        {
          "output_type": "stream",
          "name": "stdout",
          "text": [
            "miguel angel Duran cano\n"
          ]
        }
      ]
    },
    {
      "cell_type": "markdown",
      "source": [
        "**VARIABLES**\n",
        "Son espacios de memoria que nos sirven a para guardar información particular, deben tenrer un nombre que nos ayude a identificar su contenido"
      ],
      "metadata": {
        "id": "oY8MaqYwuG5_"
      }
    },
    {
      "cell_type": "code",
      "source": [
        "#Para declarar una variable se usa nombre de la variable, el signo igual y el valor\n",
        "#Ejemplo: Edad=35\n",
        "nombre=\"Miguel Angel\"\n",
        "apellido=\"Duran Cano\"\n",
        "edad=35\n",
        "estado_civil=\"Union libre\""
      ],
      "metadata": {
        "id": "7kgxnF3Pt9lG"
      },
      "execution_count": null,
      "outputs": []
    },
    {
      "cell_type": "code",
      "source": [
        "nombre"
      ],
      "metadata": {
        "colab": {
          "base_uri": "https://localhost:8080/",
          "height": 36
        },
        "id": "ogDO98oCu0VB",
        "outputId": "8e5de1ba-a50c-463a-f4cd-42fb60bb6e75"
      },
      "execution_count": null,
      "outputs": [
        {
          "output_type": "execute_result",
          "data": {
            "text/plain": [
              "'Miguel Angel'"
            ],
            "application/vnd.google.colaboratory.intrinsic+json": {
              "type": "string"
            }
          },
          "metadata": {},
          "execution_count": 347
        }
      ]
    },
    {
      "cell_type": "code",
      "source": [
        "apellido"
      ],
      "metadata": {
        "colab": {
          "base_uri": "https://localhost:8080/",
          "height": 36
        },
        "id": "s3A4BulSu-e-",
        "outputId": "71a37c68-eafc-412a-bfcd-4bf70ad9078b"
      },
      "execution_count": null,
      "outputs": [
        {
          "output_type": "execute_result",
          "data": {
            "text/plain": [
              "'Duran Cano'"
            ],
            "application/vnd.google.colaboratory.intrinsic+json": {
              "type": "string"
            }
          },
          "metadata": {},
          "execution_count": 348
        }
      ]
    },
    {
      "cell_type": "code",
      "source": [
        "edad"
      ],
      "metadata": {
        "colab": {
          "base_uri": "https://localhost:8080/"
        },
        "id": "V5K5C_jWvAru",
        "outputId": "533a7878-468b-4047-c04a-76599a86a8ba"
      },
      "execution_count": null,
      "outputs": [
        {
          "output_type": "execute_result",
          "data": {
            "text/plain": [
              "35"
            ]
          },
          "metadata": {},
          "execution_count": 349
        }
      ]
    },
    {
      "cell_type": "code",
      "source": [
        "estado_civil"
      ],
      "metadata": {
        "colab": {
          "base_uri": "https://localhost:8080/",
          "height": 36
        },
        "id": "xHTcqciXvBxo",
        "outputId": "cd499161-f43c-4524-daca-a9a416c72a07"
      },
      "execution_count": null,
      "outputs": [
        {
          "output_type": "execute_result",
          "data": {
            "text/plain": [
              "'Union libre'"
            ],
            "application/vnd.google.colaboratory.intrinsic+json": {
              "type": "string"
            }
          },
          "metadata": {},
          "execution_count": 350
        }
      ]
    },
    {
      "cell_type": "code",
      "source": [
        "#Nombre de mi hijo\n",
        "hijo=\"Jeronimo\"\n",
        "hijo_apellido=\"Acuña\""
      ],
      "metadata": {
        "id": "OEKALtUjvEYh"
      },
      "execution_count": null,
      "outputs": []
    },
    {
      "cell_type": "code",
      "source": [
        "hijo_apellido=\"Duran\""
      ],
      "metadata": {
        "id": "gJkHUW-gvcId"
      },
      "execution_count": null,
      "outputs": []
    },
    {
      "cell_type": "code",
      "source": [
        "hijo_apellido"
      ],
      "metadata": {
        "colab": {
          "base_uri": "https://localhost:8080/",
          "height": 36
        },
        "id": "2Tf0JjgPvpCY",
        "outputId": "09970f2c-b8c6-4573-f254-21431d4835b4"
      },
      "execution_count": null,
      "outputs": [
        {
          "output_type": "execute_result",
          "data": {
            "text/plain": [
              "'Duran'"
            ],
            "application/vnd.google.colaboratory.intrinsic+json": {
              "type": "string"
            }
          },
          "metadata": {},
          "execution_count": 353
        }
      ]
    },
    {
      "cell_type": "code",
      "source": [
        "hijo_apellido"
      ],
      "metadata": {
        "colab": {
          "base_uri": "https://localhost:8080/",
          "height": 36
        },
        "id": "9qFRmX8Yvrw9",
        "outputId": "703cdbeb-1afb-4811-8729-fa455998cfea"
      },
      "execution_count": null,
      "outputs": [
        {
          "output_type": "execute_result",
          "data": {
            "text/plain": [
              "'Duran'"
            ],
            "application/vnd.google.colaboratory.intrinsic+json": {
              "type": "string"
            }
          },
          "metadata": {},
          "execution_count": 354
        }
      ]
    },
    {
      "cell_type": "code",
      "source": [
        "hijo_apellido"
      ],
      "metadata": {
        "colab": {
          "base_uri": "https://localhost:8080/",
          "height": 36
        },
        "id": "K-oCz0RVv88j",
        "outputId": "a8e5f1dd-f61d-42af-8a2a-be9005219939"
      },
      "execution_count": null,
      "outputs": [
        {
          "output_type": "execute_result",
          "data": {
            "text/plain": [
              "'Duran'"
            ],
            "application/vnd.google.colaboratory.intrinsic+json": {
              "type": "string"
            }
          },
          "metadata": {},
          "execution_count": 355
        }
      ]
    },
    {
      "cell_type": "code",
      "source": [
        "hijo_apellido"
      ],
      "metadata": {
        "colab": {
          "base_uri": "https://localhost:8080/",
          "height": 36
        },
        "id": "HK2WVZN9wBvP",
        "outputId": "058056ed-1af5-4469-fea0-40f13a5022d6"
      },
      "execution_count": null,
      "outputs": [
        {
          "output_type": "execute_result",
          "data": {
            "text/plain": [
              "'Duran'"
            ],
            "application/vnd.google.colaboratory.intrinsic+json": {
              "type": "string"
            }
          },
          "metadata": {},
          "execution_count": 356
        }
      ]
    },
    {
      "cell_type": "code",
      "source": [
        "#Esta es una variable con un mensaje\n",
        "mensaje_1=\"Ahora que sé que python Alexandra no me va a ganar\""
      ],
      "metadata": {
        "id": "GIoAf2I4wFRP"
      },
      "execution_count": null,
      "outputs": []
    },
    {
      "cell_type": "code",
      "source": [
        "mensaje_1"
      ],
      "metadata": {
        "colab": {
          "base_uri": "https://localhost:8080/",
          "height": 36
        },
        "id": "KThEcON21dZP",
        "outputId": "8a3585ae-d940-40c8-8dbd-1913781ec7cb"
      },
      "execution_count": null,
      "outputs": [
        {
          "output_type": "execute_result",
          "data": {
            "text/plain": [
              "'Ahora que sé que python Alexandra no me va a ganar'"
            ],
            "application/vnd.google.colaboratory.intrinsic+json": {
              "type": "string"
            }
          },
          "metadata": {},
          "execution_count": 358
        }
      ]
    },
    {
      "cell_type": "code",
      "source": [
        "#Acá no solo guarde la variable si no que la mostre de una vez\n",
        "mensaje_2=\"Porque yo voy con toda\"\n",
        "mensaje_2"
      ],
      "metadata": {
        "colab": {
          "base_uri": "https://localhost:8080/",
          "height": 36
        },
        "id": "ACUyKLi21gOg",
        "outputId": "891c5dca-9046-453e-bcc4-1218de3faa87"
      },
      "execution_count": null,
      "outputs": [
        {
          "output_type": "execute_result",
          "data": {
            "text/plain": [
              "'Porque yo voy con toda'"
            ],
            "application/vnd.google.colaboratory.intrinsic+json": {
              "type": "string"
            }
          },
          "metadata": {},
          "execution_count": 359
        }
      ]
    },
    {
      "cell_type": "code",
      "source": [
        "#Asi se concatena en python\n",
        "mensaje_1+mensaje_2"
      ],
      "metadata": {
        "colab": {
          "base_uri": "https://localhost:8080/",
          "height": 36
        },
        "id": "W4htvizV16Mi",
        "outputId": "9d5f46b7-866e-4961-d322-ec2577d528d6"
      },
      "execution_count": null,
      "outputs": [
        {
          "output_type": "execute_result",
          "data": {
            "text/plain": [
              "'Ahora que sé que python Alexandra no me va a ganarPorque yo voy con toda'"
            ],
            "application/vnd.google.colaboratory.intrinsic+json": {
              "type": "string"
            }
          },
          "metadata": {},
          "execution_count": 360
        }
      ]
    },
    {
      "cell_type": "code",
      "source": [
        "espacio=\" \""
      ],
      "metadata": {
        "id": "jPshegFz2NT4"
      },
      "execution_count": null,
      "outputs": []
    },
    {
      "cell_type": "code",
      "source": [
        "mensaje_1+espacio+mensaje_2"
      ],
      "metadata": {
        "colab": {
          "base_uri": "https://localhost:8080/",
          "height": 36
        },
        "id": "c1gaVwrD2j7S",
        "outputId": "01850000-f851-4df4-b823-907adaf4f064"
      },
      "execution_count": null,
      "outputs": [
        {
          "output_type": "execute_result",
          "data": {
            "text/plain": [
              "'Ahora que sé que python Alexandra no me va a ganar Porque yo voy con toda'"
            ],
            "application/vnd.google.colaboratory.intrinsic+json": {
              "type": "string"
            }
          },
          "metadata": {},
          "execution_count": 362
        }
      ]
    },
    {
      "cell_type": "code",
      "source": [
        "#Asi guardo la concatenación dentro de una variable\n",
        "mensaje_completo=mensaje_1+espacio+mensaje_2"
      ],
      "metadata": {
        "id": "uRy4T5eW2paO"
      },
      "execution_count": null,
      "outputs": []
    },
    {
      "cell_type": "code",
      "source": [
        "mensaje_completo"
      ],
      "metadata": {
        "colab": {
          "base_uri": "https://localhost:8080/",
          "height": 36
        },
        "id": "DJABv4XK2_nX",
        "outputId": "919476ff-e56d-4aea-afe4-ef86a8cca592"
      },
      "execution_count": null,
      "outputs": [
        {
          "output_type": "execute_result",
          "data": {
            "text/plain": [
              "'Ahora que sé que python Alexandra no me va a ganar Porque yo voy con toda'"
            ],
            "application/vnd.google.colaboratory.intrinsic+json": {
              "type": "string"
            }
          },
          "metadata": {},
          "execution_count": 364
        }
      ]
    },
    {
      "cell_type": "markdown",
      "source": [
        "Listas, son tipos de datos mutables y ordenados, son las usadas al trabajar con datos, para declarar una lista uso [\n",
        "]"
      ],
      "metadata": {
        "id": "XXjp8mnx39OI"
      }
    },
    {
      "cell_type": "code",
      "source": [
        "#Las listas se definen como el siguiente ejemplo\n",
        "#Datos=[\"Miguel\",\"Angel\",\"Duran\",\"Cano\",38,\"Union libre\",1.80]\n",
        "paises=[\"Colombia\",\"Ecuador\",\"Méjico\",\"china\",\"Francia\",\"Paraguay\"]\n",
        "paises"
      ],
      "metadata": {
        "colab": {
          "base_uri": "https://localhost:8080/"
        },
        "id": "OtFrPhZQ3Bx6",
        "outputId": "ae7590f0-0628-4abe-fc45-65270c22d920"
      },
      "execution_count": null,
      "outputs": [
        {
          "output_type": "execute_result",
          "data": {
            "text/plain": [
              "['Colombia', 'Ecuador', 'Méjico', 'china', 'Francia', 'Paraguay']"
            ]
          },
          "metadata": {},
          "execution_count": 365
        }
      ]
    },
    {
      "cell_type": "code",
      "source": [
        "#Las listas tienen indices automáticos que se generan cuando creo la lista, sin embargo estos no son visibles hasta que los llame\n",
        "paises[0]"
      ],
      "metadata": {
        "colab": {
          "base_uri": "https://localhost:8080/",
          "height": 36
        },
        "id": "MykKmH-25ABE",
        "outputId": "fd46b47c-6d59-4223-8f71-b8dd9ba183a4"
      },
      "execution_count": null,
      "outputs": [
        {
          "output_type": "execute_result",
          "data": {
            "text/plain": [
              "'Colombia'"
            ],
            "application/vnd.google.colaboratory.intrinsic+json": {
              "type": "string"
            }
          },
          "metadata": {},
          "execution_count": 366
        }
      ]
    },
    {
      "cell_type": "code",
      "source": [
        "paises[-2]"
      ],
      "metadata": {
        "colab": {
          "base_uri": "https://localhost:8080/",
          "height": 36
        },
        "id": "-wUK9WGb5td0",
        "outputId": "86a57bba-f7c8-4492-f27d-75fab0d5322e"
      },
      "execution_count": null,
      "outputs": [
        {
          "output_type": "execute_result",
          "data": {
            "text/plain": [
              "'Francia'"
            ],
            "application/vnd.google.colaboratory.intrinsic+json": {
              "type": "string"
            }
          },
          "metadata": {},
          "execution_count": 367
        }
      ]
    },
    {
      "cell_type": "code",
      "source": [
        "paises[3]"
      ],
      "metadata": {
        "colab": {
          "base_uri": "https://localhost:8080/",
          "height": 36
        },
        "id": "1pdyQqM15xv3",
        "outputId": "7c5ce379-47bc-4b37-f672-3f68497f8a3c"
      },
      "execution_count": null,
      "outputs": [
        {
          "output_type": "execute_result",
          "data": {
            "text/plain": [
              "'china'"
            ],
            "application/vnd.google.colaboratory.intrinsic+json": {
              "type": "string"
            }
          },
          "metadata": {},
          "execution_count": 368
        }
      ]
    },
    {
      "cell_type": "code",
      "source": [
        "paises[-2]"
      ],
      "metadata": {
        "colab": {
          "base_uri": "https://localhost:8080/",
          "height": 36
        },
        "id": "W1cYYXA-6H3y",
        "outputId": "fc6c27c6-10b6-4e3d-c77b-259ebc26ae4a"
      },
      "execution_count": null,
      "outputs": [
        {
          "output_type": "execute_result",
          "data": {
            "text/plain": [
              "'Francia'"
            ],
            "application/vnd.google.colaboratory.intrinsic+json": {
              "type": "string"
            }
          },
          "metadata": {},
          "execution_count": 369
        }
      ]
    },
    {
      "cell_type": "code",
      "source": [
        "#La técnica del slicing me permite cortar pedazos de la lista y guardarlos en un avariable\n",
        "#cortemos\n",
        "paises[1:3]"
      ],
      "metadata": {
        "colab": {
          "base_uri": "https://localhost:8080/"
        },
        "id": "uF7qTM_W6MDZ",
        "outputId": "04ac73d9-940d-4feb-dd4f-4c07f3123da9"
      },
      "execution_count": null,
      "outputs": [
        {
          "output_type": "execute_result",
          "data": {
            "text/plain": [
              "['Ecuador', 'Méjico']"
            ]
          },
          "metadata": {},
          "execution_count": 370
        }
      ]
    },
    {
      "cell_type": "code",
      "source": [
        "corte_paises=paises[1:3]"
      ],
      "metadata": {
        "id": "BFNbFjfH620z"
      },
      "execution_count": null,
      "outputs": []
    },
    {
      "cell_type": "code",
      "source": [
        "corte_paises"
      ],
      "metadata": {
        "colab": {
          "base_uri": "https://localhost:8080/"
        },
        "id": "hgruFY2J7C2G",
        "outputId": "26716ad9-943d-4d4c-e73c-cedd7cb1fb99"
      },
      "execution_count": null,
      "outputs": [
        {
          "output_type": "execute_result",
          "data": {
            "text/plain": [
              "['Ecuador', 'Méjico']"
            ]
          },
          "metadata": {},
          "execution_count": 372
        }
      ]
    },
    {
      "cell_type": "code",
      "source": [
        "paises[1:]"
      ],
      "metadata": {
        "colab": {
          "base_uri": "https://localhost:8080/"
        },
        "id": "yIC0kDC47E2m",
        "outputId": "74d623d4-2b43-4ca6-da2d-207dde7813d4"
      },
      "execution_count": null,
      "outputs": [
        {
          "output_type": "execute_result",
          "data": {
            "text/plain": [
              "['Ecuador', 'Méjico', 'china', 'Francia', 'Paraguay']"
            ]
          },
          "metadata": {},
          "execution_count": 373
        }
      ]
    },
    {
      "cell_type": "code",
      "source": [
        "paises[:5]"
      ],
      "metadata": {
        "colab": {
          "base_uri": "https://localhost:8080/"
        },
        "id": "ULssxAIk7SId",
        "outputId": "b8a094c3-1b75-4695-8506-81f641636c75"
      },
      "execution_count": null,
      "outputs": [
        {
          "output_type": "execute_result",
          "data": {
            "text/plain": [
              "['Colombia', 'Ecuador', 'Méjico', 'china', 'Francia']"
            ]
          },
          "metadata": {},
          "execution_count": 374
        }
      ]
    },
    {
      "cell_type": "code",
      "source": [
        "#Asi agrego elementos al final de una lista\n",
        "paises.append(\"RUSIA\")\n",
        "paises"
      ],
      "metadata": {
        "colab": {
          "base_uri": "https://localhost:8080/"
        },
        "id": "R6gFfS1d7jSE",
        "outputId": "93717977-6aa6-46f4-cee3-afc9db1c4071"
      },
      "execution_count": null,
      "outputs": [
        {
          "output_type": "execute_result",
          "data": {
            "text/plain": [
              "['Colombia', 'Ecuador', 'Méjico', 'china', 'Francia', 'Paraguay', 'RUSIA']"
            ]
          },
          "metadata": {},
          "execution_count": 375
        }
      ]
    },
    {
      "cell_type": "code",
      "source": [
        "#Para agregar un dato en la posición de la lista que yo quiera uso .inser\n",
        "paises.insert(0,\"Venezuela\")\n",
        "paises"
      ],
      "metadata": {
        "colab": {
          "base_uri": "https://localhost:8080/"
        },
        "id": "0nGTBkdb71Wb",
        "outputId": "e2ca0ccd-dffd-4021-b3b0-8e7c7205e766"
      },
      "execution_count": null,
      "outputs": [
        {
          "output_type": "execute_result",
          "data": {
            "text/plain": [
              "['Venezuela',\n",
              " 'Colombia',\n",
              " 'Ecuador',\n",
              " 'Méjico',\n",
              " 'china',\n",
              " 'Francia',\n",
              " 'Paraguay',\n",
              " 'RUSIA']"
            ]
          },
          "metadata": {},
          "execution_count": 376
        }
      ]
    },
    {
      "cell_type": "code",
      "source": [
        "#Tambien se pueden concatenar listas\n",
        "paises_auropa=[\"Italia\",\"Alemania\",\"España\",\"Portugal\",\"polonia\"]\n",
        "paises_auropa"
      ],
      "metadata": {
        "colab": {
          "base_uri": "https://localhost:8080/"
        },
        "id": "2MYnCVnK8a3P",
        "outputId": "a9a5ddcf-ed74-4c99-c832-2f9adddf03c3"
      },
      "execution_count": null,
      "outputs": [
        {
          "output_type": "execute_result",
          "data": {
            "text/plain": [
              "['Italia', 'Alemania', 'España', 'Portugal', 'polonia']"
            ]
          },
          "metadata": {},
          "execution_count": 377
        }
      ]
    },
    {
      "cell_type": "code",
      "source": [
        "paises+paises_auropa"
      ],
      "metadata": {
        "colab": {
          "base_uri": "https://localhost:8080/"
        },
        "id": "ixZtZCBk82Kk",
        "outputId": "fab89791-092d-4aea-e729-4df5e3bc53ef"
      },
      "execution_count": null,
      "outputs": [
        {
          "output_type": "execute_result",
          "data": {
            "text/plain": [
              "['Venezuela',\n",
              " 'Colombia',\n",
              " 'Ecuador',\n",
              " 'Méjico',\n",
              " 'china',\n",
              " 'Francia',\n",
              " 'Paraguay',\n",
              " 'RUSIA',\n",
              " 'Italia',\n",
              " 'Alemania',\n",
              " 'España',\n",
              " 'Portugal',\n",
              " 'polonia']"
            ]
          },
          "metadata": {},
          "execution_count": 378
        }
      ]
    },
    {
      "cell_type": "code",
      "source": [
        "paises_completos_lista=[paises,paises_auropa]\n",
        "paises_completos_lista"
      ],
      "metadata": {
        "colab": {
          "base_uri": "https://localhost:8080/"
        },
        "id": "4zar6UJ5867v",
        "outputId": "2b81be83-23e5-43bc-b637-0252c764a38c"
      },
      "execution_count": null,
      "outputs": [
        {
          "output_type": "execute_result",
          "data": {
            "text/plain": [
              "[['Venezuela',\n",
              "  'Colombia',\n",
              "  'Ecuador',\n",
              "  'Méjico',\n",
              "  'china',\n",
              "  'Francia',\n",
              "  'Paraguay',\n",
              "  'RUSIA'],\n",
              " ['Italia', 'Alemania', 'España', 'Portugal', 'polonia']]"
            ]
          },
          "metadata": {},
          "execution_count": 379
        }
      ]
    },
    {
      "cell_type": "code",
      "source": [
        "paises"
      ],
      "metadata": {
        "id": "aoBaYgsBMOdI",
        "colab": {
          "base_uri": "https://localhost:8080/"
        },
        "outputId": "5b2a1f3e-bfe9-499e-92f1-380b9b869abb"
      },
      "execution_count": null,
      "outputs": [
        {
          "output_type": "execute_result",
          "data": {
            "text/plain": [
              "['Venezuela',\n",
              " 'Colombia',\n",
              " 'Ecuador',\n",
              " 'Méjico',\n",
              " 'china',\n",
              " 'Francia',\n",
              " 'Paraguay',\n",
              " 'RUSIA']"
            ]
          },
          "metadata": {},
          "execution_count": 380
        }
      ]
    },
    {
      "cell_type": "code",
      "source": [
        "#Metodo para eliminar datos de lista remove\n",
        "paises.remove(\"china\")\n",
        "paises"
      ],
      "metadata": {
        "colab": {
          "base_uri": "https://localhost:8080/"
        },
        "id": "MHp4BwWyMw30",
        "outputId": "3182c4da-5539-44a1-bb47-f9be01af52d2"
      },
      "execution_count": null,
      "outputs": [
        {
          "output_type": "execute_result",
          "data": {
            "text/plain": [
              "['Venezuela', 'Colombia', 'Ecuador', 'Méjico', 'Francia', 'Paraguay', 'RUSIA']"
            ]
          },
          "metadata": {},
          "execution_count": 381
        }
      ]
    },
    {
      "cell_type": "code",
      "source": [
        "paises"
      ],
      "metadata": {
        "colab": {
          "base_uri": "https://localhost:8080/"
        },
        "id": "YR9p4bQsNBdX",
        "outputId": "9b0df024-74e0-46a2-bcbb-ac788fdea1b4"
      },
      "execution_count": null,
      "outputs": [
        {
          "output_type": "execute_result",
          "data": {
            "text/plain": [
              "['Venezuela', 'Colombia', 'Ecuador', 'Méjico', 'Francia', 'Paraguay', 'RUSIA']"
            ]
          },
          "metadata": {},
          "execution_count": 382
        }
      ]
    },
    {
      "cell_type": "code",
      "source": [
        "#Otro metodo para eliminar es el metodo pop este permite eliminar por posición\n",
        "paises.pop(0)\n",
        "paises"
      ],
      "metadata": {
        "colab": {
          "base_uri": "https://localhost:8080/"
        },
        "id": "BsxOXSjrNNzo",
        "outputId": "7ba8cbf6-51cb-4f0e-a697-ef5ec57b346d"
      },
      "execution_count": null,
      "outputs": [
        {
          "output_type": "execute_result",
          "data": {
            "text/plain": [
              "['Colombia', 'Ecuador', 'Méjico', 'Francia', 'Paraguay', 'RUSIA']"
            ]
          },
          "metadata": {},
          "execution_count": 383
        }
      ]
    },
    {
      "cell_type": "code",
      "source": [
        "#para eliminar definitvamente se usa del\n",
        "del paises[2]\n",
        "paises"
      ],
      "metadata": {
        "colab": {
          "base_uri": "https://localhost:8080/"
        },
        "id": "xZfa5qisNikH",
        "outputId": "d9935268-5346-490f-a879-f55babeeadef"
      },
      "execution_count": null,
      "outputs": [
        {
          "output_type": "execute_result",
          "data": {
            "text/plain": [
              "['Colombia', 'Ecuador', 'Francia', 'Paraguay', 'RUSIA']"
            ]
          },
          "metadata": {},
          "execution_count": 384
        }
      ]
    },
    {
      "cell_type": "code",
      "source": [
        "#Ordenar las listas, las puedo ordenar de menor a mayor o alfabeticamente con el metodo sort\n",
        "paises.sort()\n",
        "paises"
      ],
      "metadata": {
        "colab": {
          "base_uri": "https://localhost:8080/"
        },
        "id": "Ms6DF6fHN3UZ",
        "outputId": "0cdb6b98-7dae-4d62-a5ff-5ebbd0f2d4cd"
      },
      "execution_count": null,
      "outputs": [
        {
          "output_type": "execute_result",
          "data": {
            "text/plain": [
              "['Colombia', 'Ecuador', 'Francia', 'Paraguay', 'RUSIA']"
            ]
          },
          "metadata": {},
          "execution_count": 385
        }
      ]
    },
    {
      "cell_type": "code",
      "source": [
        "digitos=[3,5,7,9,1,4,6,7]\n",
        "digitos.sort()\n",
        "digitos"
      ],
      "metadata": {
        "colab": {
          "base_uri": "https://localhost:8080/"
        },
        "id": "sO9HM5vzOZjV",
        "outputId": "50bce1d4-8776-4a8d-a20e-b48e22bcad11"
      },
      "execution_count": null,
      "outputs": [
        {
          "output_type": "execute_result",
          "data": {
            "text/plain": [
              "[1, 3, 4, 5, 6, 7, 7, 9]"
            ]
          },
          "metadata": {},
          "execution_count": 386
        }
      ]
    },
    {
      "cell_type": "code",
      "source": [
        "digitos.sort(reverse=True)\n",
        "digitos"
      ],
      "metadata": {
        "colab": {
          "base_uri": "https://localhost:8080/"
        },
        "id": "Cq6eHmHnOvQY",
        "outputId": "45e898d1-bf8f-4cd4-9747-f6932c10e5d8"
      },
      "execution_count": null,
      "outputs": [
        {
          "output_type": "execute_result",
          "data": {
            "text/plain": [
              "[9, 7, 7, 6, 5, 4, 3, 1]"
            ]
          },
          "metadata": {},
          "execution_count": 387
        }
      ]
    },
    {
      "cell_type": "code",
      "source": [
        "paises.sort(reverse=True)\n",
        "paises"
      ],
      "metadata": {
        "colab": {
          "base_uri": "https://localhost:8080/"
        },
        "id": "7pwDS5XEO-Vr",
        "outputId": "4fed890e-b3fc-4086-b71b-459b4d16604d"
      },
      "execution_count": null,
      "outputs": [
        {
          "output_type": "execute_result",
          "data": {
            "text/plain": [
              "['RUSIA', 'Paraguay', 'Francia', 'Ecuador', 'Colombia']"
            ]
          },
          "metadata": {},
          "execution_count": 388
        }
      ]
    },
    {
      "cell_type": "code",
      "source": [
        "#Para realizar copia de bases de datos\n",
        "paises_copia_verdadero=paises.copy()\n",
        "paises_copia_verdadero"
      ],
      "metadata": {
        "colab": {
          "base_uri": "https://localhost:8080/"
        },
        "id": "FjtSoSVJPNbm",
        "outputId": "171edd5a-22e9-4a2c-e356-a0cec4a047fa"
      },
      "execution_count": null,
      "outputs": [
        {
          "output_type": "execute_result",
          "data": {
            "text/plain": [
              "['RUSIA', 'Paraguay', 'Francia', 'Ecuador', 'Colombia']"
            ]
          },
          "metadata": {},
          "execution_count": 389
        }
      ]
    },
    {
      "cell_type": "code",
      "source": [
        "#Para cortar la lista desde inicio hasta el final\n",
        "paises_copia_verdadero_2=paises[:]\n",
        "paises_copia_verdadero_2"
      ],
      "metadata": {
        "colab": {
          "base_uri": "https://localhost:8080/"
        },
        "id": "rbxiZRajP3I2",
        "outputId": "3695f58c-623b-45e6-8ad2-4e1ad8196666"
      },
      "execution_count": null,
      "outputs": [
        {
          "output_type": "execute_result",
          "data": {
            "text/plain": [
              "['RUSIA', 'Paraguay', 'Francia', 'Ecuador', 'Colombia']"
            ]
          },
          "metadata": {},
          "execution_count": 390
        }
      ]
    },
    {
      "cell_type": "markdown",
      "source": [
        "DICCIONARIOS\n",
        "Son tipos de datos que tienen una llave y un valor, a la combinación de llave con valor, se le conoce como items, en los disccionarios puedo usar metodos parecidos a los de las listas"
      ],
      "metadata": {
        "id": "9vnMWrHyQNbw"
      }
    },
    {
      "cell_type": "code",
      "source": [
        "diccionario_esp_ing={\"casa\":\"house\",\"entender\":\"understand\",\"sediento\":\"thirty\",\"rojo\":\"red\",\"ocupado\":\"bussy\"}\n",
        "diccionario_esp_ing"
      ],
      "metadata": {
        "colab": {
          "base_uri": "https://localhost:8080/"
        },
        "id": "pe313u1BQLN4",
        "outputId": "de570467-733d-4a37-a948-9b5f3352b993"
      },
      "execution_count": null,
      "outputs": [
        {
          "output_type": "execute_result",
          "data": {
            "text/plain": [
              "{'casa': 'house',\n",
              " 'entender': 'understand',\n",
              " 'sediento': 'thirty',\n",
              " 'rojo': 'red',\n",
              " 'ocupado': 'bussy'}"
            ]
          },
          "metadata": {},
          "execution_count": 391
        }
      ]
    },
    {
      "cell_type": "code",
      "source": [
        "#Para ver un valor de una llave determinada lo hago así\n",
        "diccionario_esp_ing[\"casa\"]"
      ],
      "metadata": {
        "colab": {
          "base_uri": "https://localhost:8080/",
          "height": 36
        },
        "id": "nYv4_I0RSFkp",
        "outputId": "4fb89aa9-33e2-4949-83dc-ee9696cd9b1e"
      },
      "execution_count": null,
      "outputs": [
        {
          "output_type": "execute_result",
          "data": {
            "text/plain": [
              "'house'"
            ],
            "application/vnd.google.colaboratory.intrinsic+json": {
              "type": "string"
            }
          },
          "metadata": {},
          "execution_count": 392
        }
      ]
    },
    {
      "cell_type": "code",
      "source": [
        "#Para traer todas las llaves de un diccionario, puedo usar el metodo keys\n",
        "diccionario_esp_ing.keys()"
      ],
      "metadata": {
        "colab": {
          "base_uri": "https://localhost:8080/"
        },
        "id": "-3slwMWuSZyW",
        "outputId": "5a8aa694-9244-4b73-ea68-41953f9a2b58"
      },
      "execution_count": null,
      "outputs": [
        {
          "output_type": "execute_result",
          "data": {
            "text/plain": [
              "dict_keys(['casa', 'entender', 'sediento', 'rojo', 'ocupado'])"
            ]
          },
          "metadata": {},
          "execution_count": 393
        }
      ]
    },
    {
      "cell_type": "code",
      "source": [
        "#Para traer los valores de los diccionarios\n",
        "diccionario_esp_ing.values()"
      ],
      "metadata": {
        "colab": {
          "base_uri": "https://localhost:8080/"
        },
        "id": "grNRF7-2Su4Z",
        "outputId": "a033f357-a2d5-4b37-c54c-6129da3111b1"
      },
      "execution_count": null,
      "outputs": [
        {
          "output_type": "execute_result",
          "data": {
            "text/plain": [
              "dict_values(['house', 'understand', 'thirty', 'red', 'bussy'])"
            ]
          },
          "metadata": {},
          "execution_count": 394
        }
      ]
    },
    {
      "cell_type": "code",
      "source": [
        "#Para mostrar todo el diccionario\n",
        "diccionario_esp_ing"
      ],
      "metadata": {
        "colab": {
          "base_uri": "https://localhost:8080/"
        },
        "id": "V36tGGUOS4JL",
        "outputId": "d96e1464-0475-45d4-8a33-2078d88d1951"
      },
      "execution_count": null,
      "outputs": [
        {
          "output_type": "execute_result",
          "data": {
            "text/plain": [
              "{'casa': 'house',\n",
              " 'entender': 'understand',\n",
              " 'sediento': 'thirty',\n",
              " 'rojo': 'red',\n",
              " 'ocupado': 'bussy'}"
            ]
          },
          "metadata": {},
          "execution_count": 395
        }
      ]
    },
    {
      "cell_type": "code",
      "source": [
        "diccionario_esp_ing.items()"
      ],
      "metadata": {
        "colab": {
          "base_uri": "https://localhost:8080/"
        },
        "id": "OPQusHBMS_Mk",
        "outputId": "61f92fc2-c778-432b-f4da-24065c449c14"
      },
      "execution_count": null,
      "outputs": [
        {
          "output_type": "execute_result",
          "data": {
            "text/plain": [
              "dict_items([('casa', 'house'), ('entender', 'understand'), ('sediento', 'thirty'), ('rojo', 'red'), ('ocupado', 'bussy')])"
            ]
          },
          "metadata": {},
          "execution_count": 396
        }
      ]
    },
    {
      "cell_type": "code",
      "source": [
        "type(diccionario_esp_ing)"
      ],
      "metadata": {
        "colab": {
          "base_uri": "https://localhost:8080/"
        },
        "id": "dJr6Pte8TD8B",
        "outputId": "b2e90fcd-6b67-4f26-c928-503f7c2086a2"
      },
      "execution_count": null,
      "outputs": [
        {
          "output_type": "execute_result",
          "data": {
            "text/plain": [
              "dict"
            ]
          },
          "metadata": {},
          "execution_count": 397
        }
      ]
    },
    {
      "cell_type": "code",
      "source": [
        "#Para agregar un nuevo elemento a un diccionario, se hace así\n",
        "diccionario_esp_ing[\"Azul\"]=\"blue\"\n",
        "diccionario_esp_ing"
      ],
      "metadata": {
        "colab": {
          "base_uri": "https://localhost:8080/"
        },
        "id": "7eL_n5VWTJGa",
        "outputId": "7003515f-f8d2-4407-c68c-a3f61d15024d"
      },
      "execution_count": null,
      "outputs": [
        {
          "output_type": "execute_result",
          "data": {
            "text/plain": [
              "{'casa': 'house',\n",
              " 'entender': 'understand',\n",
              " 'sediento': 'thirty',\n",
              " 'rojo': 'red',\n",
              " 'ocupado': 'bussy',\n",
              " 'Azul': 'blue'}"
            ]
          },
          "metadata": {},
          "execution_count": 398
        }
      ]
    },
    {
      "cell_type": "code",
      "source": [
        "#Para actualizar un dato uso el update\n",
        "diccionario_esp_ing.update({\"negro\":\"black\"})\n",
        "diccionario_esp_ing"
      ],
      "metadata": {
        "colab": {
          "base_uri": "https://localhost:8080/"
        },
        "id": "GULucvDZTaIc",
        "outputId": "35336206-e390-4930-f90e-a7a2b8cf53f7"
      },
      "execution_count": null,
      "outputs": [
        {
          "output_type": "execute_result",
          "data": {
            "text/plain": [
              "{'casa': 'house',\n",
              " 'entender': 'understand',\n",
              " 'sediento': 'thirty',\n",
              " 'rojo': 'red',\n",
              " 'ocupado': 'bussy',\n",
              " 'Azul': 'blue',\n",
              " 'negro': 'black'}"
            ]
          },
          "metadata": {},
          "execution_count": 399
        }
      ]
    },
    {
      "cell_type": "code",
      "source": [
        "#Tambien puedo agregar una lista dentro de un diccionario\n",
        "diccionario_esp_ing.update({\"gris\":\"grey\",\"pronombres\":[\"he\",\"she\",\"it\"]})\n",
        "diccionario_esp_ing"
      ],
      "metadata": {
        "colab": {
          "base_uri": "https://localhost:8080/"
        },
        "id": "w-2Y6PljULFX",
        "outputId": "b3274677-c80c-4ebc-9fdd-61e28283daab"
      },
      "execution_count": null,
      "outputs": [
        {
          "output_type": "execute_result",
          "data": {
            "text/plain": [
              "{'casa': 'house',\n",
              " 'entender': 'understand',\n",
              " 'sediento': 'thirty',\n",
              " 'rojo': 'red',\n",
              " 'ocupado': 'bussy',\n",
              " 'Azul': 'blue',\n",
              " 'negro': 'black',\n",
              " 'gris': 'grey',\n",
              " 'pronombres': ['he', 'she', 'it']}"
            ]
          },
          "metadata": {},
          "execution_count": 400
        }
      ]
    },
    {
      "cell_type": "code",
      "source": [
        "diccionario_esp_ing.values()"
      ],
      "metadata": {
        "colab": {
          "base_uri": "https://localhost:8080/"
        },
        "id": "9FibERACUvXy",
        "outputId": "6e370873-d560-4fe0-d880-0a753ba9a803"
      },
      "execution_count": null,
      "outputs": [
        {
          "output_type": "execute_result",
          "data": {
            "text/plain": [
              "dict_values(['house', 'understand', 'thirty', 'red', 'bussy', 'blue', 'black', 'grey', ['he', 'she', 'it']])"
            ]
          },
          "metadata": {},
          "execution_count": 401
        }
      ]
    },
    {
      "cell_type": "code",
      "source": [
        "#Para borrar datos uso el metodo pop\n",
        "diccionario_esp_ing.pop(\"gris\")\n",
        "diccionario_esp_ing"
      ],
      "metadata": {
        "colab": {
          "base_uri": "https://localhost:8080/"
        },
        "id": "tJ2qo7PmVMOx",
        "outputId": "46631fc0-9bcc-4d03-c9f9-b14332dd2552"
      },
      "execution_count": null,
      "outputs": [
        {
          "output_type": "execute_result",
          "data": {
            "text/plain": [
              "{'casa': 'house',\n",
              " 'entender': 'understand',\n",
              " 'sediento': 'thirty',\n",
              " 'rojo': 'red',\n",
              " 'ocupado': 'bussy',\n",
              " 'Azul': 'blue',\n",
              " 'negro': 'black',\n",
              " 'pronombres': ['he', 'she', 'it']}"
            ]
          },
          "metadata": {},
          "execution_count": 402
        }
      ]
    },
    {
      "cell_type": "code",
      "source": [
        "#Para eliminar del diccionario podemos usar del\n",
        "del diccionario_esp_ing [\"pronombres\"]\n",
        "diccionario_esp_ing\n"
      ],
      "metadata": {
        "colab": {
          "base_uri": "https://localhost:8080/"
        },
        "id": "39flobQEVjVR",
        "outputId": "242a5d6d-6303-4fac-aa41-57a03eccd9f9"
      },
      "execution_count": null,
      "outputs": [
        {
          "output_type": "execute_result",
          "data": {
            "text/plain": [
              "{'casa': 'house',\n",
              " 'entender': 'understand',\n",
              " 'sediento': 'thirty',\n",
              " 'rojo': 'red',\n",
              " 'ocupado': 'bussy',\n",
              " 'Azul': 'blue',\n",
              " 'negro': 'black'}"
            ]
          },
          "metadata": {},
          "execution_count": 403
        }
      ]
    },
    {
      "cell_type": "code",
      "source": [
        "diccionario_esp_ing"
      ],
      "metadata": {
        "colab": {
          "base_uri": "https://localhost:8080/"
        },
        "id": "Diip1C9sVxvS",
        "outputId": "8155b432-ffc5-45fa-a1f6-946fcade04a9"
      },
      "execution_count": null,
      "outputs": [
        {
          "output_type": "execute_result",
          "data": {
            "text/plain": [
              "{'casa': 'house',\n",
              " 'entender': 'understand',\n",
              " 'sediento': 'thirty',\n",
              " 'rojo': 'red',\n",
              " 'ocupado': 'bussy',\n",
              " 'Azul': 'blue',\n",
              " 'negro': 'black'}"
            ]
          },
          "metadata": {},
          "execution_count": 404
        }
      ]
    },
    {
      "cell_type": "markdown",
      "source": [
        "OPERADORES LOGICOS\n",
        "\n",
        "Se usan para comprobar condiciones y devolver True o False, dependiendo cual sea el caso, son escencuales para la toma de decisiones y para la creación de la logica de programación."
      ],
      "metadata": {
        "id": "voxYc0XSbg3h"
      }
    },
    {
      "cell_type": "code",
      "source": [
        "#El primero es AND que tradice Y\n",
        "print(\"operador and (Que significa y)\")\n",
        "print(\"para que y sea verdadero todas las condiciones deben ser verdaderas\")\n",
        "5>3 and 5<10"
      ],
      "metadata": {
        "colab": {
          "base_uri": "https://localhost:8080/"
        },
        "id": "rEqOFmljWCNn",
        "outputId": "71b84e1b-f612-4471-cb2a-e8dab24edb0a"
      },
      "execution_count": null,
      "outputs": [
        {
          "output_type": "stream",
          "name": "stdout",
          "text": [
            "operador and (Que significa y)\n",
            "para que y sea verdadero todas las condiciones deben ser verdaderas\n"
          ]
        },
        {
          "output_type": "execute_result",
          "data": {
            "text/plain": [
              "True"
            ]
          },
          "metadata": {},
          "execution_count": 405
        }
      ]
    },
    {
      "cell_type": "code",
      "source": [
        "1<3 and 5<10"
      ],
      "metadata": {
        "colab": {
          "base_uri": "https://localhost:8080/"
        },
        "id": "sg55X0jXcYmj",
        "outputId": "50432c94-e1f4-4183-9d4e-fd6212db9462"
      },
      "execution_count": null,
      "outputs": [
        {
          "output_type": "execute_result",
          "data": {
            "text/plain": [
              "True"
            ]
          },
          "metadata": {},
          "execution_count": 406
        }
      ]
    },
    {
      "cell_type": "code",
      "source": [
        "#Para usar o, se usa la palabra resrvada or, en or por lo menos una de las condiciones debes ser verdadera\n",
        "5<3 or 5>10"
      ],
      "metadata": {
        "colab": {
          "base_uri": "https://localhost:8080/"
        },
        "id": "-Ib1wmugcn4c",
        "outputId": "c3c1e92b-3693-44ac-f6cf-d9ca65b342da"
      },
      "execution_count": null,
      "outputs": [
        {
          "output_type": "execute_result",
          "data": {
            "text/plain": [
              "False"
            ]
          },
          "metadata": {},
          "execution_count": 407
        }
      ]
    },
    {
      "cell_type": "code",
      "source": [
        "5>3 and 5<10"
      ],
      "metadata": {
        "colab": {
          "base_uri": "https://localhost:8080/"
        },
        "id": "hcYMx9sOc90M",
        "outputId": "977e93bd-5bf4-4aa1-d2a7-a2bd56ca4233"
      },
      "execution_count": null,
      "outputs": [
        {
          "output_type": "execute_result",
          "data": {
            "text/plain": [
              "True"
            ]
          },
          "metadata": {},
          "execution_count": 408
        }
      ]
    },
    {
      "cell_type": "code",
      "source": [
        "#Existe otro operador logico que es el NOT\n",
        "# not\n",
        "print(\"operador NOT (negación logica)\")\n",
        "not 5>3"
      ],
      "metadata": {
        "colab": {
          "base_uri": "https://localhost:8080/"
        },
        "id": "bUtWcBn9dGb5",
        "outputId": "e5329343-cd71-4622-b80b-442107c69e2b"
      },
      "execution_count": null,
      "outputs": [
        {
          "output_type": "stream",
          "name": "stdout",
          "text": [
            "operador NOT (negación logica)\n"
          ]
        },
        {
          "output_type": "execute_result",
          "data": {
            "text/plain": [
              "False"
            ]
          },
          "metadata": {},
          "execution_count": 409
        }
      ]
    },
    {
      "cell_type": "markdown",
      "source": [
        "OPERACIONES MATEMATICAS\n",
        "\n",
        "Se usaran las mas basicas para cualquier lenguaje de programción, suma, resta, multiplicación, división, potenciación y módulo."
      ],
      "metadata": {
        "id": "fsa9QEsndkJG"
      }
    },
    {
      "cell_type": "code",
      "source": [
        "#Suma, se representa con el signo + y me sirve tambien para concatenar\n",
        "6+5"
      ],
      "metadata": {
        "colab": {
          "base_uri": "https://localhost:8080/"
        },
        "id": "cro3tj8Gdcme",
        "outputId": "f8116804-eecc-4734-cbea-0ca91795ce98"
      },
      "execution_count": null,
      "outputs": [
        {
          "output_type": "execute_result",
          "data": {
            "text/plain": [
              "11"
            ]
          },
          "metadata": {},
          "execution_count": 410
        }
      ]
    },
    {
      "cell_type": "code",
      "source": [
        "6-5"
      ],
      "metadata": {
        "colab": {
          "base_uri": "https://localhost:8080/"
        },
        "id": "4QJJieG6d9sY",
        "outputId": "ba47ad7d-d9f5-4a8a-ac60-96f3a3c50366"
      },
      "execution_count": null,
      "outputs": [
        {
          "output_type": "execute_result",
          "data": {
            "text/plain": [
              "1"
            ]
          },
          "metadata": {},
          "execution_count": 411
        }
      ]
    },
    {
      "cell_type": "code",
      "source": [
        "#Multiplicación, se representa con el asterisco, me sirve para multiplicar cadenas\n",
        "7*5\n"
      ],
      "metadata": {
        "colab": {
          "base_uri": "https://localhost:8080/"
        },
        "id": "DHfkzavZd_Tq",
        "outputId": "f0b91738-ad3b-435f-f9ea-866c844e8010"
      },
      "execution_count": null,
      "outputs": [
        {
          "output_type": "execute_result",
          "data": {
            "text/plain": [
              "35"
            ]
          },
          "metadata": {},
          "execution_count": 412
        }
      ]
    },
    {
      "cell_type": "code",
      "source": [
        "#División, uso el slash, y me da resultados con decimales\n",
        "37/3"
      ],
      "metadata": {
        "colab": {
          "base_uri": "https://localhost:8080/"
        },
        "id": "ieRsaEoMeV0f",
        "outputId": "06c11e13-1b56-46b0-9d92-8d47a709202b"
      },
      "execution_count": null,
      "outputs": [
        {
          "output_type": "execute_result",
          "data": {
            "text/plain": [
              "12.333333333333334"
            ]
          },
          "metadata": {},
          "execution_count": 413
        }
      ]
    },
    {
      "cell_type": "code",
      "source": [
        "#Potenciación se usa el doble asterisco, primero base y luego el exponente\n",
        "5**5"
      ],
      "metadata": {
        "colab": {
          "base_uri": "https://localhost:8080/"
        },
        "id": "NhmrMrcEeiAo",
        "outputId": "13e496d2-d1df-4893-87ca-ce8d502598b6"
      },
      "execution_count": null,
      "outputs": [
        {
          "output_type": "execute_result",
          "data": {
            "text/plain": [
              "3125"
            ]
          },
          "metadata": {},
          "execution_count": 414
        }
      ]
    },
    {
      "cell_type": "code",
      "source": [
        "#Módulo...para hacer el módulo uso el simbolo de porcentaje\n",
        "23%4"
      ],
      "metadata": {
        "colab": {
          "base_uri": "https://localhost:8080/"
        },
        "id": "fEfc2Ha7ernD",
        "outputId": "54141fc1-8f82-4f94-fc18-4c9a064bda76"
      },
      "execution_count": null,
      "outputs": [
        {
          "output_type": "execute_result",
          "data": {
            "text/plain": [
              "3"
            ]
          },
          "metadata": {},
          "execution_count": 415
        }
      ]
    },
    {
      "cell_type": "code",
      "source": [
        "#Operadores de comparación, nos sirvan como su nombre lo indica para comparasr valores y saber si la comparación es verdadera o falsa\n",
        "#Para comparar si dos valores son iguales uso ==\n",
        "(3.29)==21"
      ],
      "metadata": {
        "colab": {
          "base_uri": "https://localhost:8080/"
        },
        "id": "wvprwuprfc8j",
        "outputId": "9016493a-1dd2-4870-edce-f08f3d9a0ed2"
      },
      "execution_count": null,
      "outputs": [
        {
          "output_type": "execute_result",
          "data": {
            "text/plain": [
              "False"
            ]
          },
          "metadata": {},
          "execution_count": 416
        }
      ]
    },
    {
      "cell_type": "code",
      "source": [
        "#Para hacer una comparación diferente de, usro !=\n",
        "(3+29)!=21"
      ],
      "metadata": {
        "colab": {
          "base_uri": "https://localhost:8080/"
        },
        "id": "U3cCZxkGf31L",
        "outputId": "1cc4bca7-4d7b-4a17-8ad0-999366d6b1a9"
      },
      "execution_count": null,
      "outputs": [
        {
          "output_type": "execute_result",
          "data": {
            "text/plain": [
              "True"
            ]
          },
          "metadata": {},
          "execution_count": 417
        }
      ]
    },
    {
      "cell_type": "code",
      "source": [
        "#Mayor que >\n",
        "(3+29)>21"
      ],
      "metadata": {
        "colab": {
          "base_uri": "https://localhost:8080/"
        },
        "id": "lAgPJ0TxgD5J",
        "outputId": "fb15ae53-e39c-47dd-b381-0ce7c623d59a"
      },
      "execution_count": null,
      "outputs": [
        {
          "output_type": "execute_result",
          "data": {
            "text/plain": [
              "True"
            ]
          },
          "metadata": {},
          "execution_count": 418
        }
      ]
    },
    {
      "cell_type": "code",
      "source": [
        "#Menor que <\n",
        "(3+29)<21"
      ],
      "metadata": {
        "colab": {
          "base_uri": "https://localhost:8080/"
        },
        "id": "ccH9eajkgOup",
        "outputId": "df197f57-3657-4ae9-a34d-a92f8556a26c"
      },
      "execution_count": null,
      "outputs": [
        {
          "output_type": "execute_result",
          "data": {
            "text/plain": [
              "False"
            ]
          },
          "metadata": {},
          "execution_count": 419
        }
      ]
    },
    {
      "cell_type": "code",
      "source": [
        "#Menor igual o mayor igual\n",
        "# >= Mayor o igual que\n",
        "# <= Menor o igual que\n",
        "(3+18)<=21"
      ],
      "metadata": {
        "colab": {
          "base_uri": "https://localhost:8080/"
        },
        "id": "XZZj4MuIgWXK",
        "outputId": "31a1ba6c-fd5c-4166-b961-436690963b29"
      },
      "execution_count": null,
      "outputs": [
        {
          "output_type": "execute_result",
          "data": {
            "text/plain": [
              "True"
            ]
          },
          "metadata": {},
          "execution_count": 420
        }
      ]
    },
    {
      "cell_type": "markdown",
      "source": [
        "CONDICIONALES\n",
        "\n",
        "Me permite ejecutar un cloque de código si la condición es verdadera o falsa, sirve como ente de control. Su sintaxis es de la siguiente manera, las condiconales en Python son **if**, **elif** y **else**"
      ],
      "metadata": {
        "id": "azsW-0dRgyAR"
      }
    },
    {
      "cell_type": "code",
      "source": [
        "#if la condición:\n",
        "# (codigo que quiero ejecutar)\n",
        "#else:\n",
        "# (codigo a ejecutar)"
      ],
      "metadata": {
        "id": "OjxYm9nXgrgU"
      },
      "execution_count": null,
      "outputs": []
    },
    {
      "cell_type": "code",
      "source": [
        "edad_jero=16\n",
        "if edad_jero >= 18:\n",
        "  print(\"Jero bienvenido, pero deberias estar estudiando\")\n",
        "else:\n",
        "  print (\"Jero no tienes la edad para ingresar\")\n"
      ],
      "metadata": {
        "colab": {
          "base_uri": "https://localhost:8080/"
        },
        "id": "VWlSB8pyhX81",
        "outputId": "f8fa63d7-98f8-4927-ed9a-d76935aaf3ac"
      },
      "execution_count": null,
      "outputs": [
        {
          "output_type": "stream",
          "name": "stdout",
          "text": [
            "Jero no tienes la edad para ingresar\n"
          ]
        }
      ]
    },
    {
      "cell_type": "code",
      "source": [
        "edad_usuario=int(input(\"Hola para ingresar por favor completa tu edad\"))\n",
        "if edad_usuario >= 18:\n",
        "  print(\"Bienvenido puedes ingresar\")\n",
        "else:\n",
        "  print(\"Eres pequeño no ingreses por favor\")"
      ],
      "metadata": {
        "colab": {
          "base_uri": "https://localhost:8080/"
        },
        "id": "pLmjfOuNhyBr",
        "outputId": "9c4509b4-54ab-4dbe-e77c-8744234da2f3"
      },
      "execution_count": null,
      "outputs": [
        {
          "output_type": "stream",
          "name": "stdout",
          "text": [
            "Hola para ingresar por favor completa tu edad1\n",
            "Eres pequeño no ingreses por favor\n"
          ]
        }
      ]
    },
    {
      "cell_type": "code",
      "source": [
        "edad_usuario=int(input(\"Hola para ingresar por favor completa tu edad\"))\n",
        "if edad_usuario >= 18:\n",
        "  print(\"Bienvenido puedes ingresar\")\n",
        "elif edad_usuario>=13:\n",
        "  print(\"Eres un adolecente, pero no te preocupes TE ESPERAMOS\")\n",
        "else:\n",
        "  print(\"Eres pequeño no ingreses por favor\")"
      ],
      "metadata": {
        "colab": {
          "base_uri": "https://localhost:8080/"
        },
        "id": "jwDRrHONi22E",
        "outputId": "bb6bf308-42df-406e-cc8d-8b8d47a6d4ae"
      },
      "execution_count": null,
      "outputs": [
        {
          "output_type": "stream",
          "name": "stdout",
          "text": [
            "Hola para ingresar por favor completa tu edad1\n",
            "Eres pequeño no ingreses por favor\n"
          ]
        }
      ]
    },
    {
      "cell_type": "code",
      "source": [
        "if \"Francia\" in paises:\n",
        "  print(\"Esta no es una lista latinoamericana\")\n",
        "else:\n",
        "  print(\"los sudacas\")"
      ],
      "metadata": {
        "colab": {
          "base_uri": "https://localhost:8080/"
        },
        "id": "m8dqnvS5kI_M",
        "outputId": "aede7877-1045-4b7f-9d96-ac76cd649f98"
      },
      "execution_count": null,
      "outputs": [
        {
          "output_type": "stream",
          "name": "stdout",
          "text": [
            "Esta no es una lista latinoamericana\n"
          ]
        }
      ]
    },
    {
      "cell_type": "markdown",
      "source": [
        "BLUCE FOR\n"
      ],
      "metadata": {
        "id": "MYSgh46CkgcZ"
      }
    },
    {
      "cell_type": "code",
      "source": [
        "edad_usuario=int(input(\"Hola ingresa tu edad si eres mayor de edad\"))\n",
        "if edad_usuario>=18:\n",
        "   print(\"Eres mayor de edad\")\n",
        "else:\n",
        "  print(\"Eres menor de edad\")"
      ],
      "metadata": {
        "colab": {
          "base_uri": "https://localhost:8080/"
        },
        "id": "tNNSHWr5kbOe",
        "outputId": "f287101b-9f59-4f32-e198-b89ccec5c6aa"
      },
      "execution_count": null,
      "outputs": [
        {
          "output_type": "stream",
          "name": "stdout",
          "text": [
            "Hola ingresa tu edad si eres mayor de edad1\n",
            "Eres menor de edad\n"
          ]
        }
      ]
    },
    {
      "cell_type": "markdown",
      "source": [
        "**CICLOS Y BUCLES**\n",
        "Son estructuras de código que me permite iterar sobre una estructura o un rango, existen dos tipos de ciclos mas usados: Los for que significa para o los while que significan que"
      ],
      "metadata": {
        "id": "q7UzMUk-t_Ll"
      }
    },
    {
      "cell_type": "code",
      "source": [
        "#De esta manera es la estructura de los ciclos for\n",
        "#for<variable>int<lista>:\n",
        " # <Ejecutable>"
      ],
      "metadata": {
        "id": "4IM5mjqIfxIj"
      },
      "execution_count": null,
      "outputs": []
    },
    {
      "cell_type": "code",
      "source": [
        "paises"
      ],
      "metadata": {
        "colab": {
          "base_uri": "https://localhost:8080/"
        },
        "id": "lefmGcyOwwNY",
        "outputId": "55f7966e-fbdd-44a1-fc9f-26ee68bd3417"
      },
      "execution_count": null,
      "outputs": [
        {
          "output_type": "execute_result",
          "data": {
            "text/plain": [
              "['RUSIA', 'Paraguay', 'Francia', 'Ecuador', 'Colombia']"
            ]
          },
          "metadata": {},
          "execution_count": 428
        }
      ]
    },
    {
      "cell_type": "code",
      "source": [
        "for numero,i in enumerate(paises):\n",
        "  print(numero)\n",
        "  print(i)"
      ],
      "metadata": {
        "colab": {
          "base_uri": "https://localhost:8080/"
        },
        "id": "-ob1qSt8w2QZ",
        "outputId": "2bca34b6-2a47-4f46-a5e7-90adf4667283"
      },
      "execution_count": null,
      "outputs": [
        {
          "output_type": "stream",
          "name": "stdout",
          "text": [
            "0\n",
            "RUSIA\n",
            "1\n",
            "Paraguay\n",
            "2\n",
            "Francia\n",
            "3\n",
            "Ecuador\n",
            "4\n",
            "Colombia\n"
          ]
        }
      ]
    },
    {
      "cell_type": "markdown",
      "source": [
        "**FUNCIONES**"
      ],
      "metadata": {
        "id": "kSB1yMEL3Arb"
      }
    },
    {
      "cell_type": "code",
      "source": [
        "#Funcion len me da la longitud de una recta\n",
        "len(paises)"
      ],
      "metadata": {
        "colab": {
          "base_uri": "https://localhost:8080/"
        },
        "id": "E1RrDqjmxN0S",
        "outputId": "262fb0a9-ec99-4785-a501-f8eb462f8a51"
      },
      "execution_count": null,
      "outputs": [
        {
          "output_type": "execute_result",
          "data": {
            "text/plain": [
              "5"
            ]
          },
          "metadata": {},
          "execution_count": 430
        }
      ]
    },
    {
      "cell_type": "code",
      "source": [
        "#Funcion max me sierve para mostrar el número mas grande de un arreglo\n",
        "max([1,4,5,6,8,2,9,3])\n"
      ],
      "metadata": {
        "colab": {
          "base_uri": "https://localhost:8080/"
        },
        "id": "MLJauhOo3SN-",
        "outputId": "4906af9b-7598-4a7c-ac1c-e4ad5a029757"
      },
      "execution_count": null,
      "outputs": [
        {
          "output_type": "execute_result",
          "data": {
            "text/plain": [
              "9"
            ]
          },
          "metadata": {},
          "execution_count": 431
        }
      ]
    },
    {
      "cell_type": "code",
      "source": [
        "#Funcion min me sirve para mostyrar el valor mas bajo de un arreglo\n",
        "min([1,4,5,6,8,2,9,3])"
      ],
      "metadata": {
        "colab": {
          "base_uri": "https://localhost:8080/"
        },
        "id": "PFjpLQag3vaR",
        "outputId": "af3b4471-a5da-4f05-f9c8-d30259c316d6"
      },
      "execution_count": null,
      "outputs": [
        {
          "output_type": "execute_result",
          "data": {
            "text/plain": [
              "1"
            ]
          },
          "metadata": {},
          "execution_count": 432
        }
      ]
    },
    {
      "cell_type": "code",
      "source": [
        "#Type me sirve para saber el tipo de dato de una variable\n",
        "type(paises)"
      ],
      "metadata": {
        "colab": {
          "base_uri": "https://localhost:8080/"
        },
        "id": "rFrH1e4Q34hE",
        "outputId": "34863d90-9776-411e-ea82-e74e858f8b00"
      },
      "execution_count": null,
      "outputs": [
        {
          "output_type": "execute_result",
          "data": {
            "text/plain": [
              "list"
            ]
          },
          "metadata": {},
          "execution_count": 433
        }
      ]
    },
    {
      "cell_type": "code",
      "source": [
        "#Round me sirve para redondear decimales\n",
        "round(3.1416,1)"
      ],
      "metadata": {
        "colab": {
          "base_uri": "https://localhost:8080/"
        },
        "id": "Vt5DeMoc4CJW",
        "outputId": "d8b906bc-4e4d-43e6-9eba-820c7e69efeb"
      },
      "execution_count": null,
      "outputs": [
        {
          "output_type": "execute_result",
          "data": {
            "text/plain": [
              "3.1"
            ]
          },
          "metadata": {},
          "execution_count": 434
        }
      ]
    },
    {
      "cell_type": "code",
      "source": [
        "#rangenos sirve para crear una secuencia de números, tiene 3 argumentos, el inico, el final y el paso.\n",
        "contando=range(0,200,5)"
      ],
      "metadata": {
        "id": "m-9NHPUb4Np5"
      },
      "execution_count": null,
      "outputs": []
    },
    {
      "cell_type": "code",
      "source": [
        "for i in contando:\n",
        "  print(i)"
      ],
      "metadata": {
        "colab": {
          "base_uri": "https://localhost:8080/"
        },
        "id": "zR01qAj74e2v",
        "outputId": "de7b380b-ad3d-4f44-ca02-d7013ecf3161"
      },
      "execution_count": null,
      "outputs": [
        {
          "output_type": "stream",
          "name": "stdout",
          "text": [
            "0\n",
            "5\n",
            "10\n",
            "15\n",
            "20\n",
            "25\n",
            "30\n",
            "35\n",
            "40\n",
            "45\n",
            "50\n",
            "55\n",
            "60\n",
            "65\n",
            "70\n",
            "75\n",
            "80\n",
            "85\n",
            "90\n",
            "95\n",
            "100\n",
            "105\n",
            "110\n",
            "115\n",
            "120\n",
            "125\n",
            "130\n",
            "135\n",
            "140\n",
            "145\n",
            "150\n",
            "155\n",
            "160\n",
            "165\n",
            "170\n",
            "175\n",
            "180\n",
            "185\n",
            "190\n",
            "195\n"
          ]
        }
      ]
    },
    {
      "cell_type": "code",
      "source": [
        "#Las funciones propias son las que yo creo y me sirven para reutilizar código\n",
        "#La palabra reservada para declarar una funcion propia es def\n",
        "def suma(a,b):\n",
        "  resultado=a+b\n",
        "  return resultado"
      ],
      "metadata": {
        "id": "p7n48v_j4vGf"
      },
      "execution_count": null,
      "outputs": []
    },
    {
      "cell_type": "code",
      "source": [
        "suma(23252,2351346234)"
      ],
      "metadata": {
        "colab": {
          "base_uri": "https://localhost:8080/"
        },
        "id": "H9YdwbZr5Tf5",
        "outputId": "40d08f3e-21fc-4755-aaea-da76b76b4f60"
      },
      "execution_count": null,
      "outputs": [
        {
          "output_type": "execute_result",
          "data": {
            "text/plain": [
              "2351369486"
            ]
          },
          "metadata": {},
          "execution_count": 438
        }
      ]
    },
    {
      "cell_type": "code",
      "source": [
        "def pan(a,b):\n",
        "  precio_pan*a*b\n",
        "  return precio_pan"
      ],
      "metadata": {
        "id": "fF9eRsUy5d_p"
      },
      "execution_count": null,
      "outputs": []
    },
    {
      "cell_type": "code",
      "source": [
        "cantidad=int(input(\"Buenos días cuantos panes va a llevar\"))\n",
        "valor=int(input(\"Ingrese el valor\"))\n",
        "pan(cantidad,valor)"
      ],
      "metadata": {
        "colab": {
          "base_uri": "https://localhost:8080/",
          "height": 306
        },
        "id": "QceqXxfG6HDY",
        "outputId": "433a2107-d697-4685-f96d-47cbf7844942"
      },
      "execution_count": null,
      "outputs": [
        {
          "name": "stdout",
          "output_type": "stream",
          "text": [
            "Buenos días cuantos panes va a llevar1\n",
            "Ingrese el valor1\n"
          ]
        },
        {
          "output_type": "error",
          "ename": "NameError",
          "evalue": "name 'precio_pan' is not defined",
          "traceback": [
            "\u001b[0;31m---------------------------------------------------------------------------\u001b[0m",
            "\u001b[0;31mNameError\u001b[0m                                 Traceback (most recent call last)",
            "\u001b[0;32m<ipython-input-440-2b9e400bd003>\u001b[0m in \u001b[0;36m<cell line: 3>\u001b[0;34m()\u001b[0m\n\u001b[1;32m      1\u001b[0m \u001b[0mcantidad\u001b[0m\u001b[0;34m=\u001b[0m\u001b[0mint\u001b[0m\u001b[0;34m(\u001b[0m\u001b[0minput\u001b[0m\u001b[0;34m(\u001b[0m\u001b[0;34m\"Buenos días cuantos panes va a llevar\"\u001b[0m\u001b[0;34m)\u001b[0m\u001b[0;34m)\u001b[0m\u001b[0;34m\u001b[0m\u001b[0;34m\u001b[0m\u001b[0m\n\u001b[1;32m      2\u001b[0m \u001b[0mvalor\u001b[0m\u001b[0;34m=\u001b[0m\u001b[0mint\u001b[0m\u001b[0;34m(\u001b[0m\u001b[0minput\u001b[0m\u001b[0;34m(\u001b[0m\u001b[0;34m\"Ingrese el valor\"\u001b[0m\u001b[0;34m)\u001b[0m\u001b[0;34m)\u001b[0m\u001b[0;34m\u001b[0m\u001b[0;34m\u001b[0m\u001b[0m\n\u001b[0;32m----> 3\u001b[0;31m \u001b[0mpan\u001b[0m\u001b[0;34m(\u001b[0m\u001b[0mcantidad\u001b[0m\u001b[0;34m,\u001b[0m\u001b[0mvalor\u001b[0m\u001b[0;34m)\u001b[0m\u001b[0;34m\u001b[0m\u001b[0;34m\u001b[0m\u001b[0m\n\u001b[0m",
            "\u001b[0;32m<ipython-input-439-5aa8f5d16d86>\u001b[0m in \u001b[0;36mpan\u001b[0;34m(a, b)\u001b[0m\n\u001b[1;32m      1\u001b[0m \u001b[0;32mdef\u001b[0m \u001b[0mpan\u001b[0m\u001b[0;34m(\u001b[0m\u001b[0ma\u001b[0m\u001b[0;34m,\u001b[0m\u001b[0mb\u001b[0m\u001b[0;34m)\u001b[0m\u001b[0;34m:\u001b[0m\u001b[0;34m\u001b[0m\u001b[0;34m\u001b[0m\u001b[0m\n\u001b[0;32m----> 2\u001b[0;31m   \u001b[0mprecio_pan\u001b[0m\u001b[0;34m*\u001b[0m\u001b[0ma\u001b[0m\u001b[0;34m*\u001b[0m\u001b[0mb\u001b[0m\u001b[0;34m\u001b[0m\u001b[0;34m\u001b[0m\u001b[0m\n\u001b[0m\u001b[1;32m      3\u001b[0m   \u001b[0;32mreturn\u001b[0m \u001b[0mprecio_pan\u001b[0m\u001b[0;34m\u001b[0m\u001b[0;34m\u001b[0m\u001b[0m\n",
            "\u001b[0;31mNameError\u001b[0m: name 'precio_pan' is not defined"
          ]
        }
      ]
    },
    {
      "cell_type": "code",
      "source": [
        "#Escribe un programa que calcule el dotan de una compra de supermercado, el usaurio debe ingresar el precio de dos productos y cantidades que desea ccomprar cada uno, luego el programa debera permitir al usuario,. Multiplicar los precios por las cantidades de producto para obtener la cantidad total. Restar un descuento del total (si el usuario)\n",
        "def suma_productos(a,b):\n",
        "  resultado_suma=a+b\n",
        "  return resultado_suma\n",
        "def multiplicacion(a,b):\n",
        "  resultado_multiplicacion=a*b\n",
        "  return resultado_multiplicacion\n",
        "def dividir(a,b):\n",
        "  if b !=0:\n",
        "    return a/b\n",
        "  else:\n",
        "    return print(\"No se puede dividir en 0\")\n",
        "  resultado_division=(a,b)\n",
        "def resta(a,b):\n",
        "  resultado_resta=a-b\n",
        "  return resultado_resta"
      ],
      "metadata": {
        "id": "o0BhUJWz7KUq"
      },
      "execution_count": null,
      "outputs": []
    },
    {
      "cell_type": "code",
      "source": [
        "print(\"Bienvenido a mi almacen\")\n",
        "precio_1=float(input(\"Ingrese el precio del producto\"))\n",
        "cantidad_1=int(input(\"Ingrese la cantidad\"))\n",
        "precio_2=float(input(\"Ingrese el precio del producto\"))\n",
        "cantidad_2=int(input(\"Ingrese la cantidad\"))\n",
        "operacion=input(\"\"\"¿Bienvenido, como estas?. Cuentame que quieres hacer\n",
        "1. Sumar los precios de ambos productos\n",
        "2. Calcular el costo total multiplicando precio por cantidad\n",
        "3. Aplicar un descuento total\n",
        "4. Dividir el total entre dos personas\n",
        "No olvides que solo puedes elegir 1,2,3 y 4:\"\"\")\n",
        "if operacion==\"1\":\n",
        "  total_precio=suma_productos(precio_1,precio_2)\n",
        "  print(total_precio)"
      ],
      "metadata": {
        "colab": {
          "base_uri": "https://localhost:8080/"
        },
        "id": "1StL9ea3AYYK",
        "outputId": "56b9ec76-163a-4f05-d622-c01005af464f"
      },
      "execution_count": null,
      "outputs": [
        {
          "output_type": "stream",
          "name": "stdout",
          "text": [
            "Bienvenido a mi almacen\n",
            "Ingrese el precio del producto2000\n",
            "Ingrese la cantidad2\n",
            "Ingrese el precio del producto2000\n",
            "Ingrese la cantidad2\n",
            "¿Bienvenido, como estas?. Cuentame que quieres hacer\n",
            "1. Sumar los precios de ambos productos\n",
            "2. Calcular el costo total multiplicando precio por cantidad\n",
            "3. Aplicar un descuento total\n",
            "4. Dividir el total entre dos personas\n",
            "No olvides que solo puedes elegir 1,2,3 y 4:1\n",
            "4000.0\n"
          ]
        }
      ]
    },
    {
      "cell_type": "code",
      "source": [],
      "metadata": {
        "id": "3kka1F2hCh35"
      },
      "execution_count": null,
      "outputs": []
    }
  ]
}